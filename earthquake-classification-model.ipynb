{
 "cells": [
  {
   "cell_type": "code",
   "execution_count": 1,
   "id": "c34e2085",
   "metadata": {},
   "outputs": [],
   "source": [
    "#Importing required packages.\n",
    "import pandas as pd\n",
    "import seaborn as sns\n",
    "import matplotlib.pyplot as plt\n",
    "from sklearn.ensemble import RandomForestClassifier\n",
    "from sklearn.svm import SVC\n",
    "#from sklearn.linear_model import SGDClassifier\n",
    "from sklearn.metrics import confusion_matrix, classification_report\n",
    "from sklearn.preprocessing import StandardScaler, LabelEncoder\n",
    "from sklearn.model_selection import train_test_split\n",
    "%matplotlib inline"
   ]
  },
  {
   "cell_type": "code",
   "execution_count": 2,
   "id": "90ceffdc",
   "metadata": {},
   "outputs": [],
   "source": [
    "#Loading dataset\n",
    "earthquake = pd.read_csv('earthquake.csv',sep=',')\n"
   ]
  },
  {
   "cell_type": "code",
   "execution_count": 3,
   "id": "00e98c85",
   "metadata": {
    "scrolled": true
   },
   "outputs": [
    {
     "data": {
      "text/html": [
       "<div>\n",
       "<style scoped>\n",
       "    .dataframe tbody tr th:only-of-type {\n",
       "        vertical-align: middle;\n",
       "    }\n",
       "\n",
       "    .dataframe tbody tr th {\n",
       "        vertical-align: top;\n",
       "    }\n",
       "\n",
       "    .dataframe thead th {\n",
       "        text-align: right;\n",
       "    }\n",
       "</style>\n",
       "<table border=\"1\" class=\"dataframe\">\n",
       "  <thead>\n",
       "    <tr style=\"text-align: right;\">\n",
       "      <th></th>\n",
       "      <th>magnitude</th>\n",
       "      <th>cdi</th>\n",
       "      <th>mmi</th>\n",
       "      <th>tsunami</th>\n",
       "      <th>sig</th>\n",
       "      <th>nst</th>\n",
       "      <th>dmin</th>\n",
       "      <th>gap</th>\n",
       "      <th>depth</th>\n",
       "      <th>latitude</th>\n",
       "      <th>longitude</th>\n",
       "    </tr>\n",
       "  </thead>\n",
       "  <tbody>\n",
       "    <tr>\n",
       "      <th>0</th>\n",
       "      <td>6.5</td>\n",
       "      <td>7</td>\n",
       "      <td>4</td>\n",
       "      <td>0</td>\n",
       "      <td>657</td>\n",
       "      <td>114</td>\n",
       "      <td>7.177000</td>\n",
       "      <td>25.0</td>\n",
       "      <td>192.955</td>\n",
       "      <td>-13.8814</td>\n",
       "      <td>167.1580</td>\n",
       "    </tr>\n",
       "    <tr>\n",
       "      <th>1</th>\n",
       "      <td>6.5</td>\n",
       "      <td>8</td>\n",
       "      <td>6</td>\n",
       "      <td>0</td>\n",
       "      <td>775</td>\n",
       "      <td>92</td>\n",
       "      <td>0.679000</td>\n",
       "      <td>40.0</td>\n",
       "      <td>69.727</td>\n",
       "      <td>12.8140</td>\n",
       "      <td>-88.1265</td>\n",
       "    </tr>\n",
       "    <tr>\n",
       "      <th>2</th>\n",
       "      <td>6.6</td>\n",
       "      <td>7</td>\n",
       "      <td>5</td>\n",
       "      <td>0</td>\n",
       "      <td>899</td>\n",
       "      <td>70</td>\n",
       "      <td>1.634000</td>\n",
       "      <td>28.0</td>\n",
       "      <td>171.371</td>\n",
       "      <td>-38.1911</td>\n",
       "      <td>-70.3731</td>\n",
       "    </tr>\n",
       "    <tr>\n",
       "      <th>3</th>\n",
       "      <td>7.2</td>\n",
       "      <td>6</td>\n",
       "      <td>6</td>\n",
       "      <td>1</td>\n",
       "      <td>860</td>\n",
       "      <td>173</td>\n",
       "      <td>0.907000</td>\n",
       "      <td>36.0</td>\n",
       "      <td>32.571</td>\n",
       "      <td>54.3844</td>\n",
       "      <td>-160.6990</td>\n",
       "    </tr>\n",
       "    <tr>\n",
       "      <th>4</th>\n",
       "      <td>7.3</td>\n",
       "      <td>0</td>\n",
       "      <td>5</td>\n",
       "      <td>1</td>\n",
       "      <td>820</td>\n",
       "      <td>79</td>\n",
       "      <td>0.879451</td>\n",
       "      <td>172.8</td>\n",
       "      <td>21.000</td>\n",
       "      <td>54.4900</td>\n",
       "      <td>-160.7960</td>\n",
       "    </tr>\n",
       "  </tbody>\n",
       "</table>\n",
       "</div>"
      ],
      "text/plain": [
       "   magnitude  cdi  mmi  tsunami  sig  nst      dmin    gap    depth  latitude  \\\n",
       "0        6.5    7    4        0  657  114  7.177000   25.0  192.955  -13.8814   \n",
       "1        6.5    8    6        0  775   92  0.679000   40.0   69.727   12.8140   \n",
       "2        6.6    7    5        0  899   70  1.634000   28.0  171.371  -38.1911   \n",
       "3        7.2    6    6        1  860  173  0.907000   36.0   32.571   54.3844   \n",
       "4        7.3    0    5        1  820   79  0.879451  172.8   21.000   54.4900   \n",
       "\n",
       "   longitude  \n",
       "0   167.1580  \n",
       "1   -88.1265  \n",
       "2   -70.3731  \n",
       "3  -160.6990  \n",
       "4  -160.7960  "
      ]
     },
     "execution_count": 3,
     "metadata": {},
     "output_type": "execute_result"
    }
   ],
   "source": [
    "earthquake.head()"
   ]
  },
  {
   "cell_type": "code",
   "execution_count": 4,
   "id": "6c016bf5",
   "metadata": {},
   "outputs": [
    {
     "name": "stdout",
     "output_type": "stream",
     "text": [
      "<class 'pandas.core.frame.DataFrame'>\n",
      "RangeIndex: 1000 entries, 0 to 999\n",
      "Data columns (total 11 columns):\n",
      " #   Column     Non-Null Count  Dtype  \n",
      "---  ------     --------------  -----  \n",
      " 0   magnitude  1000 non-null   float64\n",
      " 1   cdi        1000 non-null   int64  \n",
      " 2   mmi        1000 non-null   int64  \n",
      " 3   tsunami    1000 non-null   int64  \n",
      " 4   sig        1000 non-null   int64  \n",
      " 5   nst        1000 non-null   int64  \n",
      " 6   dmin       1000 non-null   float64\n",
      " 7   gap        1000 non-null   float64\n",
      " 8   depth      1000 non-null   float64\n",
      " 9   latitude   1000 non-null   float64\n",
      " 10  longitude  1000 non-null   float64\n",
      "dtypes: float64(6), int64(5)\n",
      "memory usage: 86.1 KB\n"
     ]
    }
   ],
   "source": [
    "earthquake.info()"
   ]
  },
  {
   "cell_type": "code",
   "execution_count": 5,
   "id": "d56db2cf",
   "metadata": {},
   "outputs": [
    {
     "data": {
      "text/plain": [
       "['medium_risk', 'high_risk']\n",
       "Categories (2, object): ['medium_risk' < 'high_risk']"
      ]
     },
     "execution_count": 5,
     "metadata": {},
     "output_type": "execute_result"
    }
   ],
   "source": [
    "#preprocessing data\n",
    "\n",
    "bins= (2,7,10)\n",
    "group_names=['medium_risk','high_risk']\n",
    "earthquake['magnitude']=pd.cut(earthquake['magnitude'],bins=bins,labels=group_names)\n",
    "earthquake['magnitude'].unique()"
   ]
  },
  {
   "cell_type": "code",
   "execution_count": 6,
   "id": "8c273a61",
   "metadata": {},
   "outputs": [],
   "source": [
    "label_magnitude = LabelEncoder()"
   ]
  },
  {
   "cell_type": "code",
   "execution_count": 7,
   "id": "c9fb93b7",
   "metadata": {},
   "outputs": [],
   "source": [
    "earthquake['magnitude'] = label_magnitude.fit_transform(earthquake['magnitude'])\n"
   ]
  },
  {
   "cell_type": "code",
   "execution_count": 8,
   "id": "8a4025ff",
   "metadata": {},
   "outputs": [
    {
     "data": {
      "text/html": [
       "<div>\n",
       "<style scoped>\n",
       "    .dataframe tbody tr th:only-of-type {\n",
       "        vertical-align: middle;\n",
       "    }\n",
       "\n",
       "    .dataframe tbody tr th {\n",
       "        vertical-align: top;\n",
       "    }\n",
       "\n",
       "    .dataframe thead th {\n",
       "        text-align: right;\n",
       "    }\n",
       "</style>\n",
       "<table border=\"1\" class=\"dataframe\">\n",
       "  <thead>\n",
       "    <tr style=\"text-align: right;\">\n",
       "      <th></th>\n",
       "      <th>magnitude</th>\n",
       "      <th>cdi</th>\n",
       "      <th>mmi</th>\n",
       "      <th>tsunami</th>\n",
       "      <th>sig</th>\n",
       "      <th>nst</th>\n",
       "      <th>dmin</th>\n",
       "      <th>gap</th>\n",
       "      <th>depth</th>\n",
       "      <th>latitude</th>\n",
       "      <th>longitude</th>\n",
       "    </tr>\n",
       "  </thead>\n",
       "  <tbody>\n",
       "    <tr>\n",
       "      <th>0</th>\n",
       "      <td>1</td>\n",
       "      <td>7</td>\n",
       "      <td>4</td>\n",
       "      <td>0</td>\n",
       "      <td>657</td>\n",
       "      <td>114</td>\n",
       "      <td>7.177000</td>\n",
       "      <td>25.0</td>\n",
       "      <td>192.955</td>\n",
       "      <td>-13.8814</td>\n",
       "      <td>167.1580</td>\n",
       "    </tr>\n",
       "    <tr>\n",
       "      <th>1</th>\n",
       "      <td>1</td>\n",
       "      <td>8</td>\n",
       "      <td>6</td>\n",
       "      <td>0</td>\n",
       "      <td>775</td>\n",
       "      <td>92</td>\n",
       "      <td>0.679000</td>\n",
       "      <td>40.0</td>\n",
       "      <td>69.727</td>\n",
       "      <td>12.8140</td>\n",
       "      <td>-88.1265</td>\n",
       "    </tr>\n",
       "    <tr>\n",
       "      <th>2</th>\n",
       "      <td>1</td>\n",
       "      <td>7</td>\n",
       "      <td>5</td>\n",
       "      <td>0</td>\n",
       "      <td>899</td>\n",
       "      <td>70</td>\n",
       "      <td>1.634000</td>\n",
       "      <td>28.0</td>\n",
       "      <td>171.371</td>\n",
       "      <td>-38.1911</td>\n",
       "      <td>-70.3731</td>\n",
       "    </tr>\n",
       "    <tr>\n",
       "      <th>3</th>\n",
       "      <td>0</td>\n",
       "      <td>6</td>\n",
       "      <td>6</td>\n",
       "      <td>1</td>\n",
       "      <td>860</td>\n",
       "      <td>173</td>\n",
       "      <td>0.907000</td>\n",
       "      <td>36.0</td>\n",
       "      <td>32.571</td>\n",
       "      <td>54.3844</td>\n",
       "      <td>-160.6990</td>\n",
       "    </tr>\n",
       "    <tr>\n",
       "      <th>4</th>\n",
       "      <td>0</td>\n",
       "      <td>0</td>\n",
       "      <td>5</td>\n",
       "      <td>1</td>\n",
       "      <td>820</td>\n",
       "      <td>79</td>\n",
       "      <td>0.879451</td>\n",
       "      <td>172.8</td>\n",
       "      <td>21.000</td>\n",
       "      <td>54.4900</td>\n",
       "      <td>-160.7960</td>\n",
       "    </tr>\n",
       "  </tbody>\n",
       "</table>\n",
       "</div>"
      ],
      "text/plain": [
       "   magnitude  cdi  mmi  tsunami  sig  nst      dmin    gap    depth  latitude  \\\n",
       "0          1    7    4        0  657  114  7.177000   25.0  192.955  -13.8814   \n",
       "1          1    8    6        0  775   92  0.679000   40.0   69.727   12.8140   \n",
       "2          1    7    5        0  899   70  1.634000   28.0  171.371  -38.1911   \n",
       "3          0    6    6        1  860  173  0.907000   36.0   32.571   54.3844   \n",
       "4          0    0    5        1  820   79  0.879451  172.8   21.000   54.4900   \n",
       "\n",
       "   longitude  \n",
       "0   167.1580  \n",
       "1   -88.1265  \n",
       "2   -70.3731  \n",
       "3  -160.6990  \n",
       "4  -160.7960  "
      ]
     },
     "execution_count": 8,
     "metadata": {},
     "output_type": "execute_result"
    }
   ],
   "source": [
    "earthquake.head()"
   ]
  },
  {
   "cell_type": "code",
   "execution_count": 9,
   "id": "f728a6be",
   "metadata": {},
   "outputs": [
    {
     "data": {
      "text/html": [
       "<div>\n",
       "<style scoped>\n",
       "    .dataframe tbody tr th:only-of-type {\n",
       "        vertical-align: middle;\n",
       "    }\n",
       "\n",
       "    .dataframe tbody tr th {\n",
       "        vertical-align: top;\n",
       "    }\n",
       "\n",
       "    .dataframe thead th {\n",
       "        text-align: right;\n",
       "    }\n",
       "</style>\n",
       "<table border=\"1\" class=\"dataframe\">\n",
       "  <thead>\n",
       "    <tr style=\"text-align: right;\">\n",
       "      <th></th>\n",
       "      <th>magnitude</th>\n",
       "      <th>cdi</th>\n",
       "      <th>mmi</th>\n",
       "      <th>tsunami</th>\n",
       "      <th>sig</th>\n",
       "      <th>nst</th>\n",
       "      <th>dmin</th>\n",
       "      <th>gap</th>\n",
       "      <th>depth</th>\n",
       "      <th>latitude</th>\n",
       "      <th>longitude</th>\n",
       "    </tr>\n",
       "  </thead>\n",
       "  <tbody>\n",
       "    <tr>\n",
       "      <th>0</th>\n",
       "      <td>1</td>\n",
       "      <td>7</td>\n",
       "      <td>4</td>\n",
       "      <td>0</td>\n",
       "      <td>657</td>\n",
       "      <td>114</td>\n",
       "      <td>7.177000</td>\n",
       "      <td>25.0</td>\n",
       "      <td>192.955</td>\n",
       "      <td>-13.8814</td>\n",
       "      <td>167.1580</td>\n",
       "    </tr>\n",
       "    <tr>\n",
       "      <th>1</th>\n",
       "      <td>1</td>\n",
       "      <td>8</td>\n",
       "      <td>6</td>\n",
       "      <td>0</td>\n",
       "      <td>775</td>\n",
       "      <td>92</td>\n",
       "      <td>0.679000</td>\n",
       "      <td>40.0</td>\n",
       "      <td>69.727</td>\n",
       "      <td>12.8140</td>\n",
       "      <td>-88.1265</td>\n",
       "    </tr>\n",
       "    <tr>\n",
       "      <th>2</th>\n",
       "      <td>1</td>\n",
       "      <td>7</td>\n",
       "      <td>5</td>\n",
       "      <td>0</td>\n",
       "      <td>899</td>\n",
       "      <td>70</td>\n",
       "      <td>1.634000</td>\n",
       "      <td>28.0</td>\n",
       "      <td>171.371</td>\n",
       "      <td>-38.1911</td>\n",
       "      <td>-70.3731</td>\n",
       "    </tr>\n",
       "    <tr>\n",
       "      <th>3</th>\n",
       "      <td>0</td>\n",
       "      <td>6</td>\n",
       "      <td>6</td>\n",
       "      <td>1</td>\n",
       "      <td>860</td>\n",
       "      <td>173</td>\n",
       "      <td>0.907000</td>\n",
       "      <td>36.0</td>\n",
       "      <td>32.571</td>\n",
       "      <td>54.3844</td>\n",
       "      <td>-160.6990</td>\n",
       "    </tr>\n",
       "    <tr>\n",
       "      <th>4</th>\n",
       "      <td>0</td>\n",
       "      <td>0</td>\n",
       "      <td>5</td>\n",
       "      <td>1</td>\n",
       "      <td>820</td>\n",
       "      <td>79</td>\n",
       "      <td>0.879451</td>\n",
       "      <td>172.8</td>\n",
       "      <td>21.000</td>\n",
       "      <td>54.4900</td>\n",
       "      <td>-160.7960</td>\n",
       "    </tr>\n",
       "    <tr>\n",
       "      <th>5</th>\n",
       "      <td>1</td>\n",
       "      <td>5</td>\n",
       "      <td>4</td>\n",
       "      <td>1</td>\n",
       "      <td>802</td>\n",
       "      <td>95</td>\n",
       "      <td>2.454000</td>\n",
       "      <td>37.0</td>\n",
       "      <td>10.000</td>\n",
       "      <td>20.0196</td>\n",
       "      <td>-61.0955</td>\n",
       "    </tr>\n",
       "    <tr>\n",
       "      <th>6</th>\n",
       "      <td>1</td>\n",
       "      <td>4</td>\n",
       "      <td>4</td>\n",
       "      <td>1</td>\n",
       "      <td>741</td>\n",
       "      <td>136</td>\n",
       "      <td>1.179000</td>\n",
       "      <td>23.0</td>\n",
       "      <td>229.000</td>\n",
       "      <td>-17.8530</td>\n",
       "      <td>-174.9370</td>\n",
       "    </tr>\n",
       "    <tr>\n",
       "      <th>7</th>\n",
       "      <td>0</td>\n",
       "      <td>8</td>\n",
       "      <td>6</td>\n",
       "      <td>1</td>\n",
       "      <td>804</td>\n",
       "      <td>85</td>\n",
       "      <td>2.590000</td>\n",
       "      <td>24.0</td>\n",
       "      <td>167.404</td>\n",
       "      <td>-22.9824</td>\n",
       "      <td>-177.2080</td>\n",
       "    </tr>\n",
       "    <tr>\n",
       "      <th>8</th>\n",
       "      <td>1</td>\n",
       "      <td>6</td>\n",
       "      <td>6</td>\n",
       "      <td>1</td>\n",
       "      <td>733</td>\n",
       "      <td>50</td>\n",
       "      <td>2.163000</td>\n",
       "      <td>129.0</td>\n",
       "      <td>10.000</td>\n",
       "      <td>8.8894</td>\n",
       "      <td>-77.1231</td>\n",
       "    </tr>\n",
       "    <tr>\n",
       "      <th>9</th>\n",
       "      <td>0</td>\n",
       "      <td>3</td>\n",
       "      <td>4</td>\n",
       "      <td>1</td>\n",
       "      <td>777</td>\n",
       "      <td>98</td>\n",
       "      <td>2.812000</td>\n",
       "      <td>56.0</td>\n",
       "      <td>35.981</td>\n",
       "      <td>-23.0622</td>\n",
       "      <td>170.4560</td>\n",
       "    </tr>\n",
       "  </tbody>\n",
       "</table>\n",
       "</div>"
      ],
      "text/plain": [
       "   magnitude  cdi  mmi  tsunami  sig  nst      dmin    gap    depth  latitude  \\\n",
       "0          1    7    4        0  657  114  7.177000   25.0  192.955  -13.8814   \n",
       "1          1    8    6        0  775   92  0.679000   40.0   69.727   12.8140   \n",
       "2          1    7    5        0  899   70  1.634000   28.0  171.371  -38.1911   \n",
       "3          0    6    6        1  860  173  0.907000   36.0   32.571   54.3844   \n",
       "4          0    0    5        1  820   79  0.879451  172.8   21.000   54.4900   \n",
       "5          1    5    4        1  802   95  2.454000   37.0   10.000   20.0196   \n",
       "6          1    4    4        1  741  136  1.179000   23.0  229.000  -17.8530   \n",
       "7          0    8    6        1  804   85  2.590000   24.0  167.404  -22.9824   \n",
       "8          1    6    6        1  733   50  2.163000  129.0   10.000    8.8894   \n",
       "9          0    3    4        1  777   98  2.812000   56.0   35.981  -23.0622   \n",
       "\n",
       "   longitude  \n",
       "0   167.1580  \n",
       "1   -88.1265  \n",
       "2   -70.3731  \n",
       "3  -160.6990  \n",
       "4  -160.7960  \n",
       "5   -61.0955  \n",
       "6  -174.9370  \n",
       "7  -177.2080  \n",
       "8   -77.1231  \n",
       "9   170.4560  "
      ]
     },
     "execution_count": 9,
     "metadata": {},
     "output_type": "execute_result"
    }
   ],
   "source": [
    "earthquake.head(10)"
   ]
  },
  {
   "cell_type": "code",
   "execution_count": 10,
   "id": "386b4671",
   "metadata": {},
   "outputs": [
    {
     "data": {
      "text/plain": [
       "magnitude\n",
       "1    697\n",
       "0    303\n",
       "Name: count, dtype: int64"
      ]
     },
     "execution_count": 10,
     "metadata": {},
     "output_type": "execute_result"
    }
   ],
   "source": [
    "earthquake['magnitude'].value_counts()"
   ]
  },
  {
   "cell_type": "code",
   "execution_count": 11,
   "id": "cb8783b7",
   "metadata": {},
   "outputs": [
    {
     "data": {
      "image/png": "[encoded data removed]",
      "text/plain": [
       "<Figure size 640x480 with 1 Axes>"
      ]
     },
     "metadata": {},
     "output_type": "display_data"
    }
   ],
   "source": [
    "sns.countplot(x='magnitude', data=earthquake)\n",
    "\n",
    "# Adding labels and title\n",
    "plt.xlabel('Risk Level')\n",
    "plt.ylabel('Count')\n",
    "plt.title('Count of Earthquakes by Magnitude Category')\n",
    "\n",
    "# Customize x-axis labels\n",
    "plt.xticks(ticks=[0, 1], labels=['High Risk', 'Medium Risk'])\n",
    "\n",
    "# Show the plot\n",
    "plt.show()\n"
   ]
  },
  {
   "cell_type": "code",
   "execution_count": 12,
   "id": "4ae3ee89",
   "metadata": {},
   "outputs": [],
   "source": [
    "X = earthquake.drop('magnitude', axis = 1)\n",
    "y = earthquake['magnitude']"
   ]
  },
  {
   "cell_type": "code",
   "execution_count": 13,
   "id": "f932127e",
   "metadata": {},
   "outputs": [],
   "source": [
    "#Train and Test splitting of data \n",
    "\n",
    "X_train, X_test, y_train, y_test = train_test_split(X, y, test_size = 0.2, random_state = 42)"
   ]
  },
  {
   "cell_type": "code",
   "execution_count": 14,
   "id": "e55f100c",
   "metadata": {},
   "outputs": [],
   "source": [
    "sc = StandardScaler()"
   ]
  },
  {
   "cell_type": "code",
   "execution_count": 15,
   "id": "f09e9399",
   "metadata": {},
   "outputs": [],
   "source": [
    "X_train = sc.fit_transform(X_train)\n",
    "X_test = sc.fit_transform(X_test)"
   ]
  },
  {
   "cell_type": "code",
   "execution_count": 16,
   "id": "9ff9ca7c",
   "metadata": {},
   "outputs": [
    {
     "data": {
      "text/plain": [
       "array([[ 1.60228399,  2.07998794, -0.69191262,  6.89339567, -0.31270571,\n",
       "         0.41325736,  0.48178166, -0.43162369,  1.22847768, -0.11818066],\n",
       "       [-0.19089931,  0.67577667, -0.69191262, -0.31204926,  0.4830849 ,\n",
       "        -0.55032825, -0.11079932, -0.43104906, -0.254833  ,  0.72914976],\n",
       "       [-1.08749095, -0.02632896, -0.69191262, -0.4591674 ,  1.05992783,\n",
       "        -0.55032825,  0.55851877, -0.29313957, -0.063388  ,  0.3805675 ],\n",
       "       [ 0.40682846,  0.67577667, -0.69191262, -0.22845941,  0.77782217,\n",
       "        -0.55032825, -0.24295767, -0.49234217, -0.5038019 ,  0.90629673],\n",
       "       [-1.08749095, -0.02632896, -0.69191262, -0.59625475,  0.10834752,\n",
       "        -0.55032825, -0.88243355, -0.31612449, -0.62638395,  0.98370649],\n",
       "       [ 1.00455623,  1.37788231, -0.69191262,  0.13264873,  1.94413963,\n",
       "        -0.55032825, -0.15343105, -0.50919777,  1.29737075,  0.7660756 ],\n",
       "       [ 1.00455623,  0.67577667,  1.44526921,  0.26973608, -0.80954853,\n",
       "        -0.3228638 , -0.20032594, -0.49234217, -0.32554182,  0.86580429],\n",
       "       [-1.08749095, -0.7284346 , -0.69191262, -0.66312663, -0.80954853,\n",
       "        -0.55032825, -0.88243355,  0.24011045,  0.19586513,  0.63752466],\n",
       "       [ 0.40682846, -0.02632896, -0.69191262, -0.20505426,  1.56519172,\n",
       "        -0.55032825, -0.35806333, -0.35443268, -0.862733  ,  0.99877304],\n",
       "       [-1.08749095, -0.02632896, -0.69191262, -0.66312663, -0.51060073,\n",
       "        -0.55032825, -0.88243355, -0.31612449, -0.35477467,  0.87115845]])"
      ]
     },
     "execution_count": 16,
     "metadata": {},
     "output_type": "execute_result"
    }
   ],
   "source": [
    "X_train[:10]"
   ]
  },
  {
   "cell_type": "markdown",
   "id": "7e17e8d9",
   "metadata": {},
   "source": [
    "# Random Forest Classifier"
   ]
  },
  {
   "cell_type": "code",
   "execution_count": 17,
   "id": "652c8bb0",
   "metadata": {},
   "outputs": [],
   "source": [
    "rfc = RandomForestClassifier(n_estimators=200)\n",
    "rfc.fit(X_train, y_train, )\n",
    "pred_rfc = rfc.predict(X_test)\n"
   ]
  },
  {
   "cell_type": "code",
   "execution_count": 18,
   "id": "825e902b",
   "metadata": {},
   "outputs": [
    {
     "data": {
      "text/plain": [
       "array([0, 1, 1, 1, 1, 0, 0, 1, 1, 1, 1, 1, 0, 0, 1, 1, 0, 1, 1, 0])"
      ]
     },
     "execution_count": 18,
     "metadata": {},
     "output_type": "execute_result"
    }
   ],
   "source": [
    "#Let's see how our model performed\n",
    "pred_rfc[:20]\n"
   ]
  },
  {
   "cell_type": "code",
   "execution_count": 19,
   "id": "b2c8afe6",
   "metadata": {},
   "outputs": [
    {
     "name": "stdout",
     "output_type": "stream",
     "text": [
      "              precision    recall  f1-score   support\n",
      "\n",
      "           0       0.83      0.95      0.88        56\n",
      "           1       0.98      0.92      0.95       144\n",
      "\n",
      "    accuracy                           0.93       200\n",
      "   macro avg       0.90      0.94      0.92       200\n",
      "weighted avg       0.94      0.93      0.93       200\n",
      "\n"
     ]
    }
   ],
   "source": [
    "#Checking model performance\n",
    "\n",
    "pred_rfc = rfc.predict(X_test)\n",
    "\n",
    "print(classification_report(y_test, pred_rfc))\n"
   ]
  },
  {
   "cell_type": "markdown",
   "id": "4424977a",
   "metadata": {},
   "source": [
    "Category 0 high risk:\n",
    "Precision (accuracy of positive predictions): 83%\n",
    "Recall (ability to capture all actual positives): 95%\n",
    "F1-score (balance between precision and recall): 88%\n",
    "Support (number of actual instances): 56\n",
    "Category 1 medium risk:\n",
    "Precision (accuracy of positive predictions): 98%\n",
    "Recall (ability to capture all actual positives): 92%\n",
    "F1-score (balance between precision and recall): 95%\n",
    "Support (number of actual instances): 144\n",
    "Overall Metrics:\n",
    "Accuracy: 93%\n",
    "Macro Avg (average across both classes): Precision 90%, Recall 94%, F1-score 92%\n",
    "Weighted Avg (weighted by the number of instances): Precision 94%, Recall 93%, F1-score 93%\n",
    "Summary:\n",
    "\n",
    "The model has high precision for both classes, indicating a low rate of false positives.\n",
    "The recall for class 1 is slightly lower compared to the previous report (92% vs. 95%), indicating that the model may miss a few positive instances.\n",
    "The F1-score, which balances precision and recall, is high for both classes.\n",
    "The overall accuracy is 95%, suggesting the model's ability to make correct predictions across both classes.\n",
    "The macro and weighted averages of precision, recall, and F1-score also indicate strong overall performance.\n"
   ]
  },
  {
   "cell_type": "code",
   "execution_count": 20,
   "id": "8f1b2ba1",
   "metadata": {},
   "outputs": [
    {
     "name": "stdout",
     "output_type": "stream",
     "text": [
      "[[ 53   3]\n",
      " [ 11 133]]\n"
     ]
    }
   ],
   "source": [
    "#Confusion matrix for the random forest classification\n",
    "\n",
    "print(confusion_matrix(y_test, pred_rfc))\n"
   ]
  },
  {
   "cell_type": "markdown",
   "id": "1b7f1df6",
   "metadata": {},
   "source": [
    "True Negatives (TN): 53\n",
    "False Positives (FP): 3\n",
    "False Negatives (FN): 11\n",
    "True Positives (TP): 133\n",
    "\n",
    "These metrics provide a more detailed understanding of the model's performance, particularly in terms of correctly identifying positive instances (precision and recall) and balancing between the two (F1-score).\n",
    "\n",
    "Overall, based on the provided values, the model seems to be performing well with high precision, recall, and F1-score.\n"
   ]
  },
  {
   "cell_type": "code",
   "execution_count": 21,
   "id": "e487ca8d",
   "metadata": {},
   "outputs": [
    {
     "data": {
      "text/plain": [
       "0.93"
      ]
     },
     "execution_count": 21,
     "metadata": {},
     "output_type": "execute_result"
    }
   ],
   "source": [
    "from sklearn.metrics import accuracy_score\n",
    "cm = accuracy_score(y_test, pred_rfc)\n",
    "\n",
    "cm"
   ]
  },
  {
   "cell_type": "markdown",
   "id": "ffb2e65d",
   "metadata": {},
   "source": [
    "An accuracy score of 0.93 (or 93%) means Random Forest Classifier model correctly predicted the labels for approximately 93% of the instances in the test set. This is a measure of overall correctness "
   ]
  },
  {
   "cell_type": "code",
   "execution_count": 22,
   "id": "f805770d",
   "metadata": {},
   "outputs": [
    {
     "data": {
      "text/html": [
       "<div>\n",
       "<style scoped>\n",
       "    .dataframe tbody tr th:only-of-type {\n",
       "        vertical-align: middle;\n",
       "    }\n",
       "\n",
       "    .dataframe tbody tr th {\n",
       "        vertical-align: top;\n",
       "    }\n",
       "\n",
       "    .dataframe thead th {\n",
       "        text-align: right;\n",
       "    }\n",
       "</style>\n",
       "<table border=\"1\" class=\"dataframe\">\n",
       "  <thead>\n",
       "    <tr style=\"text-align: right;\">\n",
       "      <th></th>\n",
       "      <th>magnitude</th>\n",
       "      <th>cdi</th>\n",
       "      <th>mmi</th>\n",
       "      <th>tsunami</th>\n",
       "      <th>sig</th>\n",
       "      <th>nst</th>\n",
       "      <th>dmin</th>\n",
       "      <th>gap</th>\n",
       "      <th>depth</th>\n",
       "      <th>latitude</th>\n",
       "      <th>longitude</th>\n",
       "    </tr>\n",
       "  </thead>\n",
       "  <tbody>\n",
       "    <tr>\n",
       "      <th>0</th>\n",
       "      <td>1</td>\n",
       "      <td>7</td>\n",
       "      <td>4</td>\n",
       "      <td>0</td>\n",
       "      <td>657</td>\n",
       "      <td>114</td>\n",
       "      <td>7.177000</td>\n",
       "      <td>25.0</td>\n",
       "      <td>192.955</td>\n",
       "      <td>-13.8814</td>\n",
       "      <td>167.1580</td>\n",
       "    </tr>\n",
       "    <tr>\n",
       "      <th>1</th>\n",
       "      <td>1</td>\n",
       "      <td>8</td>\n",
       "      <td>6</td>\n",
       "      <td>0</td>\n",
       "      <td>775</td>\n",
       "      <td>92</td>\n",
       "      <td>0.679000</td>\n",
       "      <td>40.0</td>\n",
       "      <td>69.727</td>\n",
       "      <td>12.8140</td>\n",
       "      <td>-88.1265</td>\n",
       "    </tr>\n",
       "    <tr>\n",
       "      <th>2</th>\n",
       "      <td>1</td>\n",
       "      <td>7</td>\n",
       "      <td>5</td>\n",
       "      <td>0</td>\n",
       "      <td>899</td>\n",
       "      <td>70</td>\n",
       "      <td>1.634000</td>\n",
       "      <td>28.0</td>\n",
       "      <td>171.371</td>\n",
       "      <td>-38.1911</td>\n",
       "      <td>-70.3731</td>\n",
       "    </tr>\n",
       "    <tr>\n",
       "      <th>3</th>\n",
       "      <td>0</td>\n",
       "      <td>6</td>\n",
       "      <td>6</td>\n",
       "      <td>1</td>\n",
       "      <td>860</td>\n",
       "      <td>173</td>\n",
       "      <td>0.907000</td>\n",
       "      <td>36.0</td>\n",
       "      <td>32.571</td>\n",
       "      <td>54.3844</td>\n",
       "      <td>-160.6990</td>\n",
       "    </tr>\n",
       "    <tr>\n",
       "      <th>4</th>\n",
       "      <td>0</td>\n",
       "      <td>0</td>\n",
       "      <td>5</td>\n",
       "      <td>1</td>\n",
       "      <td>820</td>\n",
       "      <td>79</td>\n",
       "      <td>0.879451</td>\n",
       "      <td>172.8</td>\n",
       "      <td>21.000</td>\n",
       "      <td>54.4900</td>\n",
       "      <td>-160.7960</td>\n",
       "    </tr>\n",
       "    <tr>\n",
       "      <th>5</th>\n",
       "      <td>1</td>\n",
       "      <td>5</td>\n",
       "      <td>4</td>\n",
       "      <td>1</td>\n",
       "      <td>802</td>\n",
       "      <td>95</td>\n",
       "      <td>2.454000</td>\n",
       "      <td>37.0</td>\n",
       "      <td>10.000</td>\n",
       "      <td>20.0196</td>\n",
       "      <td>-61.0955</td>\n",
       "    </tr>\n",
       "    <tr>\n",
       "      <th>6</th>\n",
       "      <td>1</td>\n",
       "      <td>4</td>\n",
       "      <td>4</td>\n",
       "      <td>1</td>\n",
       "      <td>741</td>\n",
       "      <td>136</td>\n",
       "      <td>1.179000</td>\n",
       "      <td>23.0</td>\n",
       "      <td>229.000</td>\n",
       "      <td>-17.8530</td>\n",
       "      <td>-174.9370</td>\n",
       "    </tr>\n",
       "    <tr>\n",
       "      <th>7</th>\n",
       "      <td>0</td>\n",
       "      <td>8</td>\n",
       "      <td>6</td>\n",
       "      <td>1</td>\n",
       "      <td>804</td>\n",
       "      <td>85</td>\n",
       "      <td>2.590000</td>\n",
       "      <td>24.0</td>\n",
       "      <td>167.404</td>\n",
       "      <td>-22.9824</td>\n",
       "      <td>-177.2080</td>\n",
       "    </tr>\n",
       "    <tr>\n",
       "      <th>8</th>\n",
       "      <td>1</td>\n",
       "      <td>6</td>\n",
       "      <td>6</td>\n",
       "      <td>1</td>\n",
       "      <td>733</td>\n",
       "      <td>50</td>\n",
       "      <td>2.163000</td>\n",
       "      <td>129.0</td>\n",
       "      <td>10.000</td>\n",
       "      <td>8.8894</td>\n",
       "      <td>-77.1231</td>\n",
       "    </tr>\n",
       "    <tr>\n",
       "      <th>9</th>\n",
       "      <td>0</td>\n",
       "      <td>3</td>\n",
       "      <td>4</td>\n",
       "      <td>1</td>\n",
       "      <td>777</td>\n",
       "      <td>98</td>\n",
       "      <td>2.812000</td>\n",
       "      <td>56.0</td>\n",
       "      <td>35.981</td>\n",
       "      <td>-23.0622</td>\n",
       "      <td>170.4560</td>\n",
       "    </tr>\n",
       "  </tbody>\n",
       "</table>\n",
       "</div>"
      ],
      "text/plain": [
       "   magnitude  cdi  mmi  tsunami  sig  nst      dmin    gap    depth  latitude  \\\n",
       "0          1    7    4        0  657  114  7.177000   25.0  192.955  -13.8814   \n",
       "1          1    8    6        0  775   92  0.679000   40.0   69.727   12.8140   \n",
       "2          1    7    5        0  899   70  1.634000   28.0  171.371  -38.1911   \n",
       "3          0    6    6        1  860  173  0.907000   36.0   32.571   54.3844   \n",
       "4          0    0    5        1  820   79  0.879451  172.8   21.000   54.4900   \n",
       "5          1    5    4        1  802   95  2.454000   37.0   10.000   20.0196   \n",
       "6          1    4    4        1  741  136  1.179000   23.0  229.000  -17.8530   \n",
       "7          0    8    6        1  804   85  2.590000   24.0  167.404  -22.9824   \n",
       "8          1    6    6        1  733   50  2.163000  129.0   10.000    8.8894   \n",
       "9          0    3    4        1  777   98  2.812000   56.0   35.981  -23.0622   \n",
       "\n",
       "   longitude  \n",
       "0   167.1580  \n",
       "1   -88.1265  \n",
       "2   -70.3731  \n",
       "3  -160.6990  \n",
       "4  -160.7960  \n",
       "5   -61.0955  \n",
       "6  -174.9370  \n",
       "7  -177.2080  \n",
       "8   -77.1231  \n",
       "9   170.4560  "
      ]
     },
     "execution_count": 22,
     "metadata": {},
     "output_type": "execute_result"
    }
   ],
   "source": [
    "earthquake.head(10)"
   ]
  },
  {
   "cell_type": "code",
   "execution_count": 23,
   "id": "7461d0fd",
   "metadata": {},
   "outputs": [
    {
     "name": "stdout",
     "output_type": "stream",
     "text": [
      "The risk of the earthquake with given parameters is:\n",
      "[1]\n"
     ]
    },
    {
     "name": "stderr",
     "output_type": "stream",
     "text": [
      "C:\\Users\\jenni\\anaconda3\\Lib\\site-packages\\sklearn\\base.py:464: UserWarning: X does not have valid feature names, but StandardScaler was fitted with feature names\n",
      "  warnings.warn(\n"
     ]
    }
   ],
   "source": [
    "Xnew = [[6, 6, 1, 733, 50, 2.163, 129.0, 10.0, 8.8894, -77.1231]]\n",
    "\n",
    "Xnew = sc.transform(Xnew)\n",
    "\n",
    "ynew = rfc.predict(Xnew)\n",
    "\n",
    "print('The risk of the earthquake with given parameters is:') \n",
    "print(ynew)"
   ]
  },
  {
   "cell_type": "markdown",
   "id": "d6e79d1a",
   "metadata": {},
   "source": [
    "Based on the result \"1,\" the trained RandomForestClassifier has predicted that the given input data point falls into the medium risk category."
   ]
  }
 ],
 "metadata": {
  "kernelspec": {
   "display_name": "Python 3 (ipykernel)",
   "language": "python",
   "name": "python3"
  },
  "language_info": {
   "codemirror_mode": {
    "name": "ipython",
    "version": 3
   },
   "file_extension": ".py",
   "mimetype": "text/x-python",
   "name": "python",
   "nbconvert_exporter": "python",
   "pygments_lexer": "ipython3",
   "version": "3.11.5"
  }
 },
 "nbformat": 4,
 "nbformat_minor": 5
}
